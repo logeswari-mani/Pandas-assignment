{
 "cells": [
  {
   "cell_type": "code",
   "execution_count": 1,
   "id": "02472931",
   "metadata": {},
   "outputs": [
    {
     "data": {
      "text/plain": [
       "9.166666666666666"
      ]
     },
     "execution_count": 1,
     "metadata": {},
     "output_type": "execute_result"
    }
   ],
   "source": [
    "import pandas as pd\n",
    "temp = pd.read_excel(\"C:/Users/Welcome/Desktop/anaconda/logeswari.xlsx\")\n",
    "temp.Salem.mean()\n",
    "temp.Pattukottai.mean()\n",
    "temp.Salem.median()\n",
    "temp.Pattukottai.median()\n",
    "temp.Salem.mode()\n",
    "temp.Pattukottai.mode()\n",
    "temp.Salem.std()\n",
    "temp.Pattukottai.std()\n",
    "temp.Salem.var()\n",
    "temp.Pattukottai.var()"
   ]
  },
  {
   "cell_type": "code",
   "execution_count": null,
   "id": "94edf938",
   "metadata": {},
   "outputs": [],
   "source": []
  }
 ],
 "metadata": {
  "kernelspec": {
   "display_name": "Python 3 (ipykernel)",
   "language": "python",
   "name": "python3"
  },
  "language_info": {
   "codemirror_mode": {
    "name": "ipython",
    "version": 3
   },
   "file_extension": ".py",
   "mimetype": "text/x-python",
   "name": "python",
   "nbconvert_exporter": "python",
   "pygments_lexer": "ipython3",
   "version": "3.9.7"
  }
 },
 "nbformat": 4,
 "nbformat_minor": 5
}
